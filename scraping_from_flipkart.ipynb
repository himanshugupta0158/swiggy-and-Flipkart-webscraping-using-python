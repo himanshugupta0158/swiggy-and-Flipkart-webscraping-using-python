{
 "cells": [
  {
   "cell_type": "code",
   "execution_count": 51,
   "id": "e3d96a69-085a-44c0-9183-1ff0a017bc52",
   "metadata": {},
   "outputs": [],
   "source": [
    "from bs4 import BeautifulSoup\n",
    "import requests\n",
    "import csv"
   ]
  },
  {
   "cell_type": "code",
   "execution_count": 52,
   "id": "3b33f9fa-b0d7-4005-aa8e-5468f88419d2",
   "metadata": {},
   "outputs": [],
   "source": [
    "url = \"https://www.flipkart.com/search?q=laptop&sid=6bo%2Cb5g&as=on&as-show=on&otracker=AS_QueryStore_OrganicAutoSuggest_1_3_na_na_na&otracker1=AS_QueryStore_OrganicAutoSuggest_1_3_na_na_na&as-pos=1&as-type=RECENT&suggestionId=laptop%7CLaptops&requestId=8f04ad1b-e8f8-44ac-8e38-0a560f87efe2&as-searchtext=lap\"\n",
    "response = requests.get(url)\n",
    "htmlcontent = response.content\n",
    "soup = BeautifulSoup(htmlcontent, \"html.parser\")"
   ]
  },
  {
   "cell_type": "code",
   "execution_count": 53,
   "id": "08865558-34ca-49d5-b31d-347f890a7b23",
   "metadata": {},
   "outputs": [
    {
     "name": "stdout",
     "output_type": "stream",
     "text": [
      "Lenovo IdeaPad 3 Ryzen 5 Hexa Core 5500U - (8 GB/512 GB SSD/Windows 11 Home) 15ALC6 Thin and Light Lap...\n"
     ]
    }
   ],
   "source": [
    "products = []\n",
    "prices = []\n",
    "ratings = []\n",
    "product = soup.find('div', attrs={'class':'_4rR01T'})\n",
    "print(product.text)"
   ]
  },
  {
   "cell_type": "code",
   "execution_count": 54,
   "id": "10bc9283-3f59-41e0-8e0e-0f0f5d675495",
   "metadata": {},
   "outputs": [],
   "source": [
    "# soup.find_all('a', href=True, attrs={'class' : '_1fQZEK'})"
   ]
  },
  {
   "cell_type": "code",
   "execution_count": 55,
   "id": "f871fceb-c716-4c25-b9d0-1df8e64f67d4",
   "metadata": {},
   "outputs": [
    {
     "name": "stdout",
     "output_type": "stream",
     "text": [
      "None occured\n",
      "None occured\n",
      "None occured\n"
     ]
    }
   ],
   "source": [
    "for a in soup.find_all('a', href=True, attrs={'class' : '_1fQZEK'}):\n",
    "    name = a.find('div', attrs={'class':'_4rR01T'})\n",
    "    price = a.find('div', attrs={'class':'_30jeq3 _1_WHN1'})\n",
    "    rating = a.find('div', attrs={'class':'_3LWZlK'})\n",
    "    # print(rating)\n",
    "    products.append(name.text)\n",
    "    prices.append(price.text)\n",
    "    try:\n",
    "        ratings.append(rating.text)\n",
    "    except:\n",
    "        print(\"None occured\")\n",
    "    finally:\n",
    "        ratings.append('0')\n",
    "        "
   ]
  },
  {
   "cell_type": "code",
   "execution_count": 56,
   "id": "d7f0037d-8be2-4790-beea-64b1c1362348",
   "metadata": {},
   "outputs": [],
   "source": [
    "import pandas as pd"
   ]
  },
  {
   "cell_type": "code",
   "execution_count": 57,
   "id": "12e756f1-03ff-4f92-81e7-fe19cd234ce2",
   "metadata": {},
   "outputs": [
    {
     "name": "stdout",
     "output_type": "stream",
     "text": [
      "product name  24 \n",
      "price  24 \n",
      "ratings  45\n"
     ]
    }
   ],
   "source": [
    "print(\"product name \",len(products),\"\\nprice \",len(prices),\"\\nratings \",len(ratings))"
   ]
  },
  {
   "cell_type": "code",
   "execution_count": 59,
   "id": "0b6458dd-8f35-4d2b-8f63-3fc24f3de5d7",
   "metadata": {},
   "outputs": [
    {
     "data": {
      "text/plain": [
       "('Lenovo IdeaPad 3 Celeron Dual Core - (8 GB/256 GB SSD/Windows 11 Home) 81WQ00MQIN|81WQ00NXIN Laptop',\n",
       " '₹30,490',\n",
       " '0')"
      ]
     },
     "execution_count": 59,
     "metadata": {},
     "output_type": "execute_result"
    }
   ],
   "source": [
    "products[23],prices[23],ratings[23]"
   ]
  },
  {
   "cell_type": "code",
   "execution_count": 61,
   "id": "c342b338-66bb-4640-aa88-a32ed335f915",
   "metadata": {},
   "outputs": [
    {
     "data": {
      "text/html": [
       "<div>\n",
       "<style scoped>\n",
       "    .dataframe tbody tr th:only-of-type {\n",
       "        vertical-align: middle;\n",
       "    }\n",
       "\n",
       "    .dataframe tbody tr th {\n",
       "        vertical-align: top;\n",
       "    }\n",
       "\n",
       "    .dataframe thead th {\n",
       "        text-align: right;\n",
       "    }\n",
       "</style>\n",
       "<table border=\"1\" class=\"dataframe\">\n",
       "  <thead>\n",
       "    <tr style=\"text-align: right;\">\n",
       "      <th></th>\n",
       "      <th>Product Name</th>\n",
       "      <th>Prices</th>\n",
       "      <th>Ratings</th>\n",
       "    </tr>\n",
       "  </thead>\n",
       "  <tbody>\n",
       "    <tr>\n",
       "      <th>0</th>\n",
       "      <td>Lenovo IdeaPad 3 Ryzen 5 Hexa Core 5500U - (8 ...</td>\n",
       "      <td>₹45,990</td>\n",
       "      <td>4.3</td>\n",
       "    </tr>\n",
       "    <tr>\n",
       "      <th>1</th>\n",
       "      <td>ASUS ROG Strix G15 Ryzen 7 Octa Core 4800H - (...</td>\n",
       "      <td>₹95,990</td>\n",
       "      <td>0</td>\n",
       "    </tr>\n",
       "    <tr>\n",
       "      <th>2</th>\n",
       "      <td>ASUS VivoBook K15 OLED Ryzen 7 Octa Core 5700U...</td>\n",
       "      <td>₹69,990</td>\n",
       "      <td>4.8</td>\n",
       "    </tr>\n",
       "    <tr>\n",
       "      <th>3</th>\n",
       "      <td>ASUS Vivobook Ryzen 9 Octa Core 5900HX - (16 G...</td>\n",
       "      <td>₹1,24,990</td>\n",
       "      <td>0</td>\n",
       "    </tr>\n",
       "    <tr>\n",
       "      <th>4</th>\n",
       "      <td>acer Aspire 7 Ryzen 5 Hexa Core 5500U - (8 GB/...</td>\n",
       "      <td>₹49,990</td>\n",
       "      <td>4.3</td>\n",
       "    </tr>\n",
       "  </tbody>\n",
       "</table>\n",
       "</div>"
      ],
      "text/plain": [
       "                                        Product Name     Prices Ratings\n",
       "0  Lenovo IdeaPad 3 Ryzen 5 Hexa Core 5500U - (8 ...    ₹45,990     4.3\n",
       "1  ASUS ROG Strix G15 Ryzen 7 Octa Core 4800H - (...    ₹95,990       0\n",
       "2  ASUS VivoBook K15 OLED Ryzen 7 Octa Core 5700U...    ₹69,990     4.8\n",
       "3  ASUS Vivobook Ryzen 9 Octa Core 5900HX - (16 G...  ₹1,24,990       0\n",
       "4  acer Aspire 7 Ryzen 5 Hexa Core 5500U - (8 GB/...    ₹49,990     4.3"
      ]
     },
     "execution_count": 61,
     "metadata": {},
     "output_type": "execute_result"
    }
   ],
   "source": [
    "df = pd.DataFrame({'Product Name' : products,'Prices' : prices,'Ratings' : ratings[:24] })\n",
    "df.head()"
   ]
  },
  {
   "cell_type": "code",
   "execution_count": 62,
   "id": "482d00c5-6dc6-4553-9a6c-2dd346d660c3",
   "metadata": {},
   "outputs": [
    {
     "data": {
      "text/html": [
       "<div>\n",
       "<style scoped>\n",
       "    .dataframe tbody tr th:only-of-type {\n",
       "        vertical-align: middle;\n",
       "    }\n",
       "\n",
       "    .dataframe tbody tr th {\n",
       "        vertical-align: top;\n",
       "    }\n",
       "\n",
       "    .dataframe thead th {\n",
       "        text-align: right;\n",
       "    }\n",
       "</style>\n",
       "<table border=\"1\" class=\"dataframe\">\n",
       "  <thead>\n",
       "    <tr style=\"text-align: right;\">\n",
       "      <th></th>\n",
       "      <th>Product Name</th>\n",
       "      <th>Prices</th>\n",
       "      <th>Ratings</th>\n",
       "    </tr>\n",
       "  </thead>\n",
       "  <tbody>\n",
       "    <tr>\n",
       "      <th>1</th>\n",
       "      <td>ASUS ROG Strix G15 Ryzen 7 Octa Core 4800H - (...</td>\n",
       "      <td>₹95,990</td>\n",
       "      <td>0</td>\n",
       "    </tr>\n",
       "  </tbody>\n",
       "</table>\n",
       "</div>"
      ],
      "text/plain": [
       "                                        Product Name   Prices Ratings\n",
       "1  ASUS ROG Strix G15 Ryzen 7 Octa Core 4800H - (...  ₹95,990       0"
      ]
     },
     "execution_count": 62,
     "metadata": {},
     "output_type": "execute_result"
    }
   ],
   "source": [
    "df[df.Prices==max(df.Prices)]"
   ]
  },
  {
   "cell_type": "code",
   "execution_count": 63,
   "id": "790bb330-c891-4b20-a17a-761bcc7df68c",
   "metadata": {},
   "outputs": [],
   "source": [
    "df.to_csv(\"flipkart_laptop_scraped_data.csv\")"
   ]
  },
  {
   "cell_type": "code",
   "execution_count": 65,
   "id": "551cf4ee-f19d-4425-99ef-816338c13994",
   "metadata": {},
   "outputs": [
    {
     "ename": "TypeError",
     "evalue": "object of type 'NoneType' has no len()",
     "output_type": "error",
     "traceback": [
      "\u001b[1;31m---------------------------------------------------------------------------\u001b[0m",
      "\u001b[1;31mTypeError\u001b[0m                                 Traceback (most recent call last)",
      "Input \u001b[1;32mIn [65]\u001b[0m, in \u001b[0;36m<cell line: 1>\u001b[1;34m()\u001b[0m\n\u001b[1;32m----> 1\u001b[0m \u001b[38;5;28mprint\u001b[39m(\u001b[38;5;124m\"\u001b[39m\u001b[38;5;124mproduct name \u001b[39m\u001b[38;5;124m\"\u001b[39m,\u001b[38;5;28mlen\u001b[39m(products),\u001b[38;5;124m\"\u001b[39m\u001b[38;5;130;01m\\n\u001b[39;00m\u001b[38;5;124mprice \u001b[39m\u001b[38;5;124m\"\u001b[39m,\u001b[38;5;28mlen\u001b[39m(prices),\u001b[38;5;124m\"\u001b[39m\u001b[38;5;130;01m\\n\u001b[39;00m\u001b[38;5;124mratings \u001b[39m\u001b[38;5;124m\"\u001b[39m,\u001b[38;5;28;43mlen\u001b[39;49m\u001b[43m(\u001b[49m\u001b[43mratings\u001b[49m\u001b[43m)\u001b[49m)\n\u001b[0;32m      2\u001b[0m \u001b[38;5;28mprint\u001b[39m(products)\n\u001b[0;32m      3\u001b[0m \u001b[38;5;28mprint\u001b[39m(prices)\n",
      "\u001b[1;31mTypeError\u001b[0m: object of type 'NoneType' has no len()"
     ]
    }
   ],
   "source": [
    "print(\"product name \",len(products),\"\\nprice \",len(prices),\"\\nratings \",len(ratings))\n",
    "print(products)\n",
    "print(prices)\n",
    "print(ratings)\n",
    "ratings = [i for i in ratings if i != '0']\n",
    "\n",
    "print(\"product name \",len(products),\"\\nprice \",len(prices),\"\\nratings \",len(ratings))\n"
   ]
  },
  {
   "cell_type": "code",
   "execution_count": null,
   "id": "50e3e653-54e4-47c3-ae79-a0d5dddef1d6",
   "metadata": {},
   "outputs": [],
   "source": []
  }
 ],
 "metadata": {
  "kernelspec": {
   "display_name": "Python 3 (ipykernel)",
   "language": "python",
   "name": "python3"
  },
  "language_info": {
   "codemirror_mode": {
    "name": "ipython",
    "version": 3
   },
   "file_extension": ".py",
   "mimetype": "text/x-python",
   "name": "python",
   "nbconvert_exporter": "python",
   "pygments_lexer": "ipython3",
   "version": "3.10.1"
  }
 },
 "nbformat": 4,
 "nbformat_minor": 5
}
